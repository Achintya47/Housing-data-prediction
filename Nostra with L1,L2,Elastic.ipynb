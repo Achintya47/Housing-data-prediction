{
 "cells": [
  {
   "cell_type": "code",
   "execution_count": 9,
   "metadata": {},
   "outputs": [],
   "source": [
    "import pandas as pd\n",
    "from sklearn.model_selection import cross_val_score\n",
    "from sklearn.model_selection import KFold\n",
    "from sklearn.model_selection import train_test_split\n",
    "from sklearn.linear_model import Ridge,Lasso,ElasticNet\n",
    "from sklearn.metrics import mean_absolute_percentage_error,make_scorer\n",
    "from sklearn.preprocessing import OrdinalEncoder\n",
    "from sklearn.preprocessing import StandardScaler\n",
    "from sklearn.decomposition import PCA\n",
    "import numpy as np\n",
    "import matplotlib.pyplot as plt\n"
   ]
  },
  {
   "cell_type": "code",
   "execution_count": 10,
   "metadata": {},
   "outputs": [
    {
     "name": "stderr",
     "output_type": "stream",
     "text": [
      "C:\\Users\\anura\\AppData\\Local\\Temp\\ipykernel_18700\\316740047.py:9: FutureWarning: Downcasting behavior in `replace` is deprecated and will be removed in a future version. To retain the old behavior, explicitly call `result.infer_objects(copy=False)`. To opt-in to the future behavior, set `pd.set_option('future.no_silent_downcasting', True)`\n",
      "  \"airconditioning\",\"prefarea\"]].replace({\"yes\":1,\"yxes\":1,\"no\":0})\n"
     ]
    }
   ],
   "source": [
    "df=pd.read_csv(\"Housing.csv\")\n",
    "\n",
    "ordinal=OrdinalEncoder(categories=[[\"unfurnished\",\"semi-furnished\",\"furnished\"]])\n",
    "\n",
    "df[\"furnishingstatus\"]=ordinal.fit_transform(df[[\"furnishingstatus\"]])\n",
    "\n",
    "df[[\"mainroad\",\"guestroom\",\"basement\",\n",
    "    \"hotwaterheating\",\"airconditioning\",\"prefarea\"]]=df[[\"mainroad\",\"guestroom\",\"basement\",\"hotwaterheating\",\n",
    "                                                         \"airconditioning\",\"prefarea\"]].replace({\"yes\":1,\"yxes\":1,\"no\":0})"
   ]
  },
  {
   "cell_type": "code",
   "execution_count": 11,
   "metadata": {},
   "outputs": [],
   "source": [
    "pca=PCA(n_components=6)\n",
    "X=df.drop(columns=[\"price\"])\n",
    "y=df[\"price\"]"
   ]
  },
  {
   "cell_type": "code",
   "execution_count": 12,
   "metadata": {},
   "outputs": [
    {
     "name": "stdout",
     "output_type": "stream",
     "text": [
      "Lasso MAPE: 0.20155551725591017\n",
      "Ridge MAPE: 0.20153202863581515\n",
      "ElasticNet MAPE: 0.20147068450383565\n"
     ]
    }
   ],
   "source": [
    "ridge=Ridge(alpha=1)\n",
    "lasso=Lasso(alpha=10)\n",
    "enet=ElasticNet(alpha=0.05,l1_ratio=0.7)\n",
    "\n",
    "X_train,X_test,y_train,y_test=train_test_split(X,y,test_size=0.2,random_state=42)\n",
    "\n",
    "lasso.fit(X_train,y_train)\n",
    "ridge.fit(X_train,y_train)\n",
    "\n",
    "enet.fit(X_train,y_train)\n",
    "\n",
    "lpred=lasso.predict(X_test)\n",
    "rpred=ridge.predict(X_test)\n",
    "epred=enet.predict(X_test)\n",
    "\n",
    "\n",
    "print(\"Lasso MAPE:\",mean_absolute_percentage_error(lpred,y_test))\n",
    "print(\"Ridge MAPE:\",mean_absolute_percentage_error(rpred,y_test))\n",
    "print(\"ElasticNet MAPE:\",mean_absolute_percentage_error(epred,y_test))"
   ]
  },
  {
   "cell_type": "code",
   "execution_count": 13,
   "metadata": {},
   "outputs": [
    {
     "name": "stdout",
     "output_type": "stream",
     "text": [
      "MAPE for each fold LASSO: [0.22471013 0.20124481 0.20530712 0.14769826 0.17957102 0.16414616\n",
      " 0.1273967  0.15208163 0.2029406  0.18154598]\n",
      "\n",
      "10-Fold Cross-Validation MAPE LASSO: 0.17866424043109647\n",
      "\n",
      "MAPE for each fold RIDGE: [0.22506194 0.20125882 0.20516972 0.14719081 0.17895664 0.16368296\n",
      " 0.12715046 0.15156859 0.20250616 0.18057266]\n",
      "\n",
      "10-Fold Cross-Validation MAPE RIDGE: 0.17831187587499647\n",
      "\n",
      "MAPE for each fold ELASTICNET: [0.22689006 0.20102968 0.20439121 0.14657701 0.17590877 0.16168569\n",
      " 0.12563476 0.14993863 0.20054724 0.17548994]\n",
      "\n",
      "10-Fold Cross-Validation MAPE ELASTICNET: 0.1768092988443224\n",
      "\n"
     ]
    }
   ],
   "source": [
    "kf=KFold(n_splits=10,shuffle=True,random_state=42)\n",
    "\n",
    "scorer=make_scorer(mean_absolute_percentage_error,greater_is_better=False)\n",
    "\n",
    "cv_lasso=cross_val_score(lasso,X,y,cv=kf,scoring=scorer)\n",
    "\n",
    "cv_ridge=cross_val_score(ridge,X,y,cv=kf,scoring=scorer)\n",
    "\n",
    "cv_elastic=cross_val_score(enet,X,y,cv=kf,scoring=scorer)\n",
    "\n",
    "mean_cv_lasso=-cv_lasso.mean()\n",
    "\n",
    "mean_cv_ridge=-cv_ridge.mean()\n",
    "\n",
    "mean_cv_elastic=-cv_elastic.mean() \n",
    "\n",
    "print(f\"MAPE for each fold LASSO: {-cv_lasso}\\n\")\n",
    "print(f'10-Fold Cross-Validation MAPE LASSO: {mean_cv_lasso}\\n')\n",
    "\n",
    "print(f\"MAPE for each fold RIDGE: {-cv_ridge}\\n\")\n",
    "print(f'10-Fold Cross-Validation MAPE RIDGE: {mean_cv_ridge}\\n')\n",
    "\n",
    "print(f\"MAPE for each fold ELASTICNET: {-cv_elastic}\\n\")\n",
    "print(f'10-Fold Cross-Validation MAPE ELASTICNET: {mean_cv_elastic}\\n')\n",
    "\n",
    "\n",
    "\n",
    "\n",
    "\n"
   ]
  }
 ],
 "metadata": {
  "kernelspec": {
   "display_name": "Python 3",
   "language": "python",
   "name": "python3"
  },
  "language_info": {
   "codemirror_mode": {
    "name": "ipython",
    "version": 3
   },
   "file_extension": ".py",
   "mimetype": "text/x-python",
   "name": "python",
   "nbconvert_exporter": "python",
   "pygments_lexer": "ipython3",
   "version": "3.12.5"
  }
 },
 "nbformat": 4,
 "nbformat_minor": 2
}
