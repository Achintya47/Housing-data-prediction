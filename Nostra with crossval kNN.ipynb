{
 "cells": [
  {
   "cell_type": "code",
   "execution_count": 9,
   "metadata": {},
   "outputs": [],
   "source": [
    "import pandas as pd\n",
    "from sklearn.metrics import make_scorer, mean_absolute_percentage_error\n",
    "from sklearn.model_selection import train_test_split\n",
    "from sklearn.preprocessing import StandardScaler\n",
    "from sklearn.model_selection import KFold,cross_val_score\n",
    "from sklearn.neighbors import KNeighborsRegressor\n",
    "from sklearn.preprocessing import OrdinalEncoder\n"
   ]
  },
  {
   "cell_type": "code",
   "execution_count": 10,
   "metadata": {},
   "outputs": [
    {
     "name": "stderr",
     "output_type": "stream",
     "text": [
      "C:\\Users\\anura\\AppData\\Local\\Temp\\ipykernel_18612\\2120730933.py:9: FutureWarning: Downcasting behavior in `replace` is deprecated and will be removed in a future version. To retain the old behavior, explicitly call `result.infer_objects(copy=False)`. To opt-in to the future behavior, set `pd.set_option('future.no_silent_downcasting', True)`\n",
      "  \"hotwaterheating\",\"airconditioning\",\"prefarea\"]].replace({\"yes\":1,\"no\":0})\n"
     ]
    }
   ],
   "source": [
    "df=pd.read_csv(\"Housing.csv\")\n",
    "\n",
    "ordinal=OrdinalEncoder(categories=[[\"unfurnished\",\"semi-furnished\",\"furnished\"]])\n",
    "df[\"furnishingstatus\"]=ordinal.fit_transform(df[[\"furnishingstatus\"]])\n",
    "\n",
    "#replacing yes with 1 and no with 0\n",
    "df[[\"mainroad\",\"guestroom\",\"basement\",\n",
    "   \"hotwaterheating\",\"airconditioning\",\"prefarea\"]]=df[[\"mainroad\",\"guestroom\",\"basement\",\n",
    "                                                      \"hotwaterheating\",\"airconditioning\",\"prefarea\"]].replace({\"yes\":1,\"no\":0})"
   ]
  },
  {
   "cell_type": "code",
   "execution_count": 11,
   "metadata": {},
   "outputs": [],
   "source": [
    "X=df.drop(columns=[\"price\"])\n",
    "y=df[\"price\"]\n",
    "\n",
    "scaler=StandardScaler()\n",
    "X[[\"area\"]]=scaler.fit_transform(X[[\"area\"]])\n",
    "X_train,X_test,y_train,y_test=train_test_split(X,y,test_size=0.2,random_state=42)"
   ]
  },
  {
   "cell_type": "code",
   "execution_count": 12,
   "metadata": {},
   "outputs": [
    {
     "name": "stdout",
     "output_type": "stream",
     "text": [
      "MAPE for each fold: [0.13830153 0.18947374 0.16085193 0.14575393 0.16536678 0.16457723\n",
      " 0.16954183 0.17636509 0.14036699 0.16199343]\n",
      "\n",
      "10-Fold Cross-Validation MAPE: 0.16125924743445963\n"
     ]
    }
   ],
   "source": [
    "model=KNeighborsRegressor(n_neighbors=10)\n",
    "\n",
    "#10 FOLD CROSS VALIDATOR\n",
    "kf=KFold(n_splits=10,shuffle=True,random_state=42)\n",
    "\n",
    "#INITIALIZING CUSTOM SCORER METRIC ON THE BASIS OF WHICH EVALUATION IS TO BE DONE\n",
    "scorer=make_scorer(mean_absolute_percentage_error,greater_is_better=False)\n",
    "\n",
    "cv_scores=cross_val_score(model,X,y,cv=kf,scoring=scorer)\n",
    "\n",
    "mean_cv_score = -cv_scores.mean()\n",
    "\n",
    "print(f\"MAPE for each fold: {-cv_scores}\\n\")\n",
    "\n",
    "print(f'10-Fold Cross-Validation MAPE: {mean_cv_score}')\n",
    "\n"
   ]
  }
 ],
 "metadata": {
  "kernelspec": {
   "display_name": "Python 3",
   "language": "python",
   "name": "python3"
  },
  "language_info": {
   "codemirror_mode": {
    "name": "ipython",
    "version": 3
   },
   "file_extension": ".py",
   "mimetype": "text/x-python",
   "name": "python",
   "nbconvert_exporter": "python",
   "pygments_lexer": "ipython3",
   "version": "3.12.5"
  }
 },
 "nbformat": 4,
 "nbformat_minor": 2
}
