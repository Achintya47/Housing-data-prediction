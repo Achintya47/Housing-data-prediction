{
 "cells": [
  {
   "cell_type": "code",
   "execution_count": 12,
   "metadata": {},
   "outputs": [],
   "source": [
    "import pandas as pd\n",
    "import numpy as np\n",
    "from sklearn.ensemble import RandomForestRegressor\n",
    "from sklearn.model_selection import train_test_split\n",
    "from sklearn.metrics import mean_absolute_percentage_error,make_scorer\n",
    "from sklearn.preprocessing import StandardScaler\n",
    "from sklearn.preprocessing import OrdinalEncoder\n",
    "from sklearn.model_selection import cross_val_score,KFold"
   ]
  },
  {
   "cell_type": "code",
   "execution_count": 13,
   "metadata": {},
   "outputs": [
    {
     "name": "stderr",
     "output_type": "stream",
     "text": [
      "C:\\Users\\anura\\AppData\\Local\\Temp\\ipykernel_26108\\2553743253.py:9: FutureWarning: Downcasting behavior in `replace` is deprecated and will be removed in a future version. To retain the old behavior, explicitly call `result.infer_objects(copy=False)`. To opt-in to the future behavior, set `pd.set_option('future.no_silent_downcasting', True)`\n",
      "  \"airconditioning\",\"prefarea\"]].replace({\"yes\":1,\"no\":0})\n"
     ]
    }
   ],
   "source": [
    "df=pd.read_csv(\"Housing.csv\")\n",
    "\n",
    "Encoder=OrdinalEncoder(categories=[[\"unfurnished\",\"semi-furnished\",\"furnished\"]])\n",
    "\n",
    "df[\"furnishingstatus\"]=Encoder.fit_transform(df[[\"furnishingstatus\"]])\n",
    "\n",
    "df[[\"mainroad\",\"guestroom\",\"basement\",\"hotwaterheating\",\n",
    "   \"airconditioning\",\"prefarea\"]]=df[[\"mainroad\",\"guestroom\",\"basement\",\"hotwaterheating\",\n",
    "                                    \"airconditioning\",\"prefarea\"]].replace({\"yes\":1,\"no\":0})"
   ]
  },
  {
   "cell_type": "code",
   "execution_count": 14,
   "metadata": {},
   "outputs": [],
   "source": [
    "X=df.drop(columns=[\"price\"])\n",
    "y=df[\"price\"]"
   ]
  },
  {
   "cell_type": "code",
   "execution_count": 15,
   "metadata": {},
   "outputs": [
    {
     "name": "stdout",
     "output_type": "stream",
     "text": [
      "MAPE RandomForestRegressor:0.21923023573466738\n"
     ]
    }
   ],
   "source": [
    "model=RandomForestRegressor(n_estimators=100,random_state=42,max_depth=None)\n",
    "\n",
    "X_train,X_test,y_train,y_test=train_test_split(X,y,test_size=0.2,random_state=42)\n",
    "\n",
    "model.fit(X_train,y_train)\n",
    "\n",
    "predictions=model.predict(X_test)\n",
    "\n",
    "print(f\"MAPE RandomForestRegressor:{mean_absolute_percentage_error(y_test,predictions)}\")"
   ]
  },
  {
   "cell_type": "code",
   "execution_count": 16,
   "metadata": {},
   "outputs": [
    {
     "name": "stdout",
     "output_type": "stream",
     "text": [
      "MAPE RandomForestRegressor Cross Validation:0.1829381042467318\n",
      "\n",
      " [0.24707927 0.22055541 0.23985953 0.14714948 0.16838303 0.17269563\n",
      " 0.12657821 0.15707041 0.19458589 0.15542418]\n"
     ]
    }
   ],
   "source": [
    "kf=KFold(n_splits=10,shuffle=True,random_state=42)\n",
    "make_scorer=make_scorer(mean_absolute_percentage_error,greater_is_better=False)\n",
    "scores=cross_val_score(model,X,y,cv=kf,scoring=make_scorer)\n",
    "\n",
    "print(f\"MAPE RandomForestRegressor Cross Validation:{-np.mean(scores)}\")\n",
    "\n",
    "print(\"\\n\",-scores)"
   ]
  }
 ],
 "metadata": {
  "kernelspec": {
   "display_name": "Python 3",
   "language": "python",
   "name": "python3"
  },
  "language_info": {
   "codemirror_mode": {
    "name": "ipython",
    "version": 3
   },
   "file_extension": ".py",
   "mimetype": "text/x-python",
   "name": "python",
   "nbconvert_exporter": "python",
   "pygments_lexer": "ipython3",
   "version": "3.12.5"
  }
 },
 "nbformat": 4,
 "nbformat_minor": 2
}
