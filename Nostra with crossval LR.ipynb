{
 "cells": [
  {
   "cell_type": "code",
   "execution_count": 14,
   "metadata": {},
   "outputs": [],
   "source": [
    "import pandas as pd\n",
    "from sklearn.metrics import make_scorer,mean_absolute_percentage_error,r2_score\n",
    "from sklearn.model_selection import train_test_split\n",
    "from sklearn.linear_model import LinearRegression\n",
    "from sklearn.model_selection import cross_val_score\n",
    "from sklearn.model_selection import KFold\n",
    "from sklearn.preprocessing import OrdinalEncoder"
   ]
  },
  {
   "cell_type": "code",
   "execution_count": 15,
   "metadata": {},
   "outputs": [
    {
     "name": "stderr",
     "output_type": "stream",
     "text": [
      "C:\\Users\\anura\\AppData\\Local\\Temp\\ipykernel_28756\\438275848.py:9: FutureWarning: Downcasting behavior in `replace` is deprecated and will be removed in a future version. To retain the old behavior, explicitly call `result.infer_objects(copy=False)`. To opt-in to the future behavior, set `pd.set_option('future.no_silent_downcasting', True)`\n",
      "  \"hotwaterheating\",\"airconditioning\",\"prefarea\"]].replace({\"yes\":1,\"no\":0})\n"
     ]
    }
   ],
   "source": [
    "df=pd.read_csv(\"Housing.csv\")\n",
    "\n",
    "ordinal=OrdinalEncoder(categories=[[\"unfurnished\",\"semi-furnished\",\"furnished\"]])\n",
    "\n",
    "df[\"furnishingstatus\"]=ordinal.fit_transform(df[[\"furnishingstatus\"]])\n",
    "\n",
    "#replacing yes with 1 and no with 0\n",
    "df[[\"mainroad\",\"guestroom\",\"basement\",\n",
    "   \"hotwaterheating\",\"airconditioning\",\"prefarea\"]]=df[[\"mainroad\",\"guestroom\",\"basement\",\n",
    "                                                      \"hotwaterheating\",\"airconditioning\",\"prefarea\"]].replace({\"yes\":1,\"no\":0})\n",
    "\n",
    "y=df[\"price\"]\n",
    "X=df.drop(columns=[\"price\"])"
   ]
  },
  {
   "cell_type": "code",
   "execution_count": 16,
   "metadata": {},
   "outputs": [],
   "source": [
    "X_train, X_test, y_train, y_test = train_test_split(X, y, test_size=0.2, random_state=42)  \n",
    "\n",
    "model=LinearRegression()"
   ]
  },
  {
   "cell_type": "code",
   "execution_count": 17,
   "metadata": {},
   "outputs": [
    {
     "name": "stdout",
     "output_type": "stream",
     "text": [
      "10-Fold Cross-Validation MAPE: 0.16485064425847754\n",
      "Standard Deviation of MAPE: 0.02003133238373737\n"
     ]
    }
   ],
   "source": [
    "kf=KFold(n_splits=10,shuffle=True,random_state=42)\n",
    "\n",
    "scorer=make_scorer(mean_absolute_percentage_error,greater_is_better=False)\n",
    "\n",
    "cv_scores=cross_val_score(model,X_train,y_train,cv=kf,scoring=scorer)\n",
    "\n",
    "mean_cv_score = -cv_scores.mean()\n",
    "std_cv_score = cv_scores.std()\n",
    "\n",
    "\n",
    "print(f'10-Fold Cross-Validation MAPE: {mean_cv_score}')\n",
    "print(f'Standard Deviation of MAPE: {std_cv_score}')\n",
    "\n"
   ]
  }
 ],
 "metadata": {
  "kernelspec": {
   "display_name": "Python 3",
   "language": "python",
   "name": "python3"
  },
  "language_info": {
   "codemirror_mode": {
    "name": "ipython",
    "version": 3
   },
   "file_extension": ".py",
   "mimetype": "text/x-python",
   "name": "python",
   "nbconvert_exporter": "python",
   "pygments_lexer": "ipython3",
   "version": "3.12.5"
  }
 },
 "nbformat": 4,
 "nbformat_minor": 2
}
